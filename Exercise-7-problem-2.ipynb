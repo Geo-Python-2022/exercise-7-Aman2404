{
 "cells": [
  {
   "attachments": {},
   "cell_type": "markdown",
   "metadata": {
    "deletable": false,
    "editable": false,
    "nbgrader": {
     "cell_type": "markdown",
     "checksum": "8af6b81a30b64784ea0840cee6da99cb",
     "grade": false,
     "grade_id": "cell-293dda8f8456c85b",
     "locked": true,
     "schema_version": 3,
     "solution": false,
     "task": false
    }
   },
   "source": [
    "## Problem 2 - Plotting temperatures (7 points)\n",
    "\n",
    "In this problem we will  plot monthly mean temperatures from the Helsinki-Vantaa airpot for the past 30 years.\n",
    "\n",
    "The final output should look like this:\n",
    "![line plot](img/temp_line_plot.png)\n",
    "\n",
    "## Input data\n",
    "\n",
    "File `data/helsinki-vantaa.csv` monthly average temperatures from Helsinki Vantaa airport. Column descriptions:\n",
    "\n",
    "- `DATE`: YEAR-MONTH-DAY (the time stamp contains the first day of each month, but values in other columns are average values for the whole month!)\n",
    "- `USAF`: Station number\n",
    "- `TEMP_F`: Monthly mean temperature in Fahrenheit \n",
    "- `TEMP_C`: Monthly mean temperature in Celsius\n",
    "- `REF_TEMP_C`: Long term average in Celsius (for the period 1988-2018)\n",
    "- `DIFF_C`: Difference between monthly mean and long term average in Celsius\n",
    "\n",
    "### Tips for completing this problem\n",
    "\n",
    "- Use **exactly** the same variable names as in the instructions because your answers will be automatically graded, and the tests that grade your answers rely on following the same formatting or variable naming as in the instructions.\n",
    "- **Please do not**:\n",
    "\n",
    "    - **Change the file names**. Do all of your editing in the provided `Exercise-7-problem-2.ipynb` file (this file).\n",
    "    - **Copy/paste cells in this notebook**. We use an automated grading system that will fail if there are copies of code cells.\n",
    "    - **Change the existing cell types**. You can add cells, but changing the cell types for existing cells (from code to markdown, for example) will also cause the automated grader to fail.\n",
    "\n",
    "### Scores for this problem\n",
    "\n",
    "**Your score on this problem will be based on following criteria:**\n",
    "\n",
    "- Loading the data file and using the dates as the index\n",
    "- Selecting the data for the 30-year period as described\n",
    "- Creating a line plot of the data with the specified format\n",
    "- Adding a title and axis labels to the plot\n",
    "- Saving a copy of the plot as a PNG file and commiting it to your repo\n",
    "- Including comments that explain what most lines in the code do"
   ]
  },
  {
   "attachments": {},
   "cell_type": "markdown",
   "metadata": {
    "deletable": false,
    "editable": false,
    "nbgrader": {
     "cell_type": "markdown",
     "checksum": "d86b88692f48d5dc74d83ce2953c4a4d",
     "grade": false,
     "grade_id": "cell-47f3d0687c30c2d4",
     "locked": true,
     "schema_version": 3,
     "solution": false,
     "task": false
    }
   },
   "source": [
    "### Part 1 (1 point)\n",
    "\n",
    "Load the Helsinki temperature data from the file `data/helsinki-vantaa.csv`.\n",
    "\n",
    "- Read the data into a variable called `data` using pandas\n",
    "- Parse the dates from the column `'DATE'` and set the dates as the index in the DataFrame "
   ]
  },
  {
   "cell_type": "code",
   "execution_count": 1,
   "metadata": {},
   "outputs": [],
   "source": [
    "import pandas as pd"
   ]
  },
  {
   "cell_type": "code",
   "execution_count": 2,
   "metadata": {
    "deletable": false,
    "nbgrader": {
     "cell_type": "code",
     "checksum": "d8558b6611b41818d01522e1a9d01a1a",
     "grade": false,
     "grade_id": "problem_2_ag_p1_read_data",
     "locked": false,
     "schema_version": 3,
     "solution": true
    }
   },
   "outputs": [],
   "source": [
    "# YOUR CODE HERE\n",
    "data=pd.read_csv('data/helsinki-vantaa.csv')"
   ]
  },
  {
   "cell_type": "code",
   "execution_count": 3,
   "metadata": {
    "deletable": false,
    "editable": false,
    "nbgrader": {
     "cell_type": "code",
     "checksum": "beb719b8c69665fd00f7a3c49563ac1d",
     "grade": true,
     "grade_id": "problem_2_ag_p1_read_data_test1",
     "locked": true,
     "points": 0.5,
     "schema_version": 3,
     "solution": false
    }
   },
   "outputs": [
    {
     "name": "stdout",
     "output_type": "stream",
     "text": [
      "         DATE     USAF     TEMP_F    TEMP_C  REF_TEMP_C    DIFF_C\n",
      "0  1952-01-01  29740.0  28.347826 -2.028986    -4.93665  2.907665\n",
      "1  1953-01-01  29740.0  22.190083 -5.449954    -4.93665 -0.513304\n",
      "2  1954-01-01  29740.0  19.864407 -6.741996    -4.93665 -1.805346\n",
      "3  1955-01-01  29740.0  22.583333 -5.231481    -4.93665 -0.294831\n",
      "4  1956-01-01  29740.0  18.254237 -7.636535    -4.93665 -2.699885\n"
     ]
    }
   ],
   "source": [
    "# This test print should print first five rows\n",
    "print(data.head())"
   ]
  },
  {
   "cell_type": "code",
   "execution_count": 4,
   "metadata": {
    "deletable": false,
    "editable": false,
    "nbgrader": {
     "cell_type": "code",
     "checksum": "193efae6faf5bd62ac3a9e4d978f609b",
     "grade": true,
     "grade_id": "problem_2_ag_p1_read_data_test2",
     "locked": true,
     "points": 0.5,
     "schema_version": 3,
     "solution": false,
     "task": false
    }
   },
   "outputs": [
    {
     "name": "stdout",
     "output_type": "stream",
     "text": [
      "706\n"
     ]
    }
   ],
   "source": [
    "# Check the number of rows in the data frame\n",
    "print(len(data))"
   ]
  },
  {
   "attachments": {},
   "cell_type": "markdown",
   "metadata": {
    "deletable": false,
    "editable": false,
    "nbgrader": {
     "cell_type": "markdown",
     "checksum": "c6cac81349abe86918a2ae1d687da65f",
     "grade": false,
     "grade_id": "cell-97cb58eda54e413d",
     "locked": true,
     "schema_version": 3,
     "solution": false
    }
   },
   "source": [
    "### Part 2 (2 points)\n",
    "\n",
    "Select data for the 30-year period (January 1988 to December 2018).\n",
    "\n",
    "- Store the selection in a new variable `selection`"
   ]
  },
  {
   "cell_type": "code",
   "execution_count": 11,
   "metadata": {},
   "outputs": [
    {
     "data": {
      "text/html": [
       "<div>\n",
       "<style scoped>\n",
       "    .dataframe tbody tr th:only-of-type {\n",
       "        vertical-align: middle;\n",
       "    }\n",
       "\n",
       "    .dataframe tbody tr th {\n",
       "        vertical-align: top;\n",
       "    }\n",
       "\n",
       "    .dataframe thead th {\n",
       "        text-align: right;\n",
       "    }\n",
       "</style>\n",
       "<table border=\"1\" class=\"dataframe\">\n",
       "  <thead>\n",
       "    <tr style=\"text-align: right;\">\n",
       "      <th></th>\n",
       "      <th>DATE</th>\n",
       "      <th>USAF</th>\n",
       "      <th>TEMP_F</th>\n",
       "      <th>TEMP_C</th>\n",
       "      <th>REF_TEMP_C</th>\n",
       "      <th>DIFF_C</th>\n",
       "      <th>YEAR</th>\n",
       "      <th>MONTH</th>\n",
       "    </tr>\n",
       "  </thead>\n",
       "  <tbody>\n",
       "    <tr>\n",
       "      <th>0</th>\n",
       "      <td>1952-01-01</td>\n",
       "      <td>29740.0</td>\n",
       "      <td>28.347826</td>\n",
       "      <td>-2.028986</td>\n",
       "      <td>-4.93665</td>\n",
       "      <td>2.907665</td>\n",
       "      <td>1952</td>\n",
       "      <td>01</td>\n",
       "    </tr>\n",
       "    <tr>\n",
       "      <th>1</th>\n",
       "      <td>1953-01-01</td>\n",
       "      <td>29740.0</td>\n",
       "      <td>22.190083</td>\n",
       "      <td>-5.449954</td>\n",
       "      <td>-4.93665</td>\n",
       "      <td>-0.513304</td>\n",
       "      <td>1953</td>\n",
       "      <td>01</td>\n",
       "    </tr>\n",
       "    <tr>\n",
       "      <th>2</th>\n",
       "      <td>1954-01-01</td>\n",
       "      <td>29740.0</td>\n",
       "      <td>19.864407</td>\n",
       "      <td>-6.741996</td>\n",
       "      <td>-4.93665</td>\n",
       "      <td>-1.805346</td>\n",
       "      <td>1954</td>\n",
       "      <td>01</td>\n",
       "    </tr>\n",
       "    <tr>\n",
       "      <th>3</th>\n",
       "      <td>1955-01-01</td>\n",
       "      <td>29740.0</td>\n",
       "      <td>22.583333</td>\n",
       "      <td>-5.231481</td>\n",
       "      <td>-4.93665</td>\n",
       "      <td>-0.294831</td>\n",
       "      <td>1955</td>\n",
       "      <td>01</td>\n",
       "    </tr>\n",
       "    <tr>\n",
       "      <th>4</th>\n",
       "      <td>1956-01-01</td>\n",
       "      <td>29740.0</td>\n",
       "      <td>18.254237</td>\n",
       "      <td>-7.636535</td>\n",
       "      <td>-4.93665</td>\n",
       "      <td>-2.699885</td>\n",
       "      <td>1956</td>\n",
       "      <td>01</td>\n",
       "    </tr>\n",
       "  </tbody>\n",
       "</table>\n",
       "</div>"
      ],
      "text/plain": [
       "         DATE     USAF     TEMP_F    TEMP_C  REF_TEMP_C    DIFF_C  YEAR MONTH\n",
       "0  1952-01-01  29740.0  28.347826 -2.028986    -4.93665  2.907665  1952    01\n",
       "1  1953-01-01  29740.0  22.190083 -5.449954    -4.93665 -0.513304  1953    01\n",
       "2  1954-01-01  29740.0  19.864407 -6.741996    -4.93665 -1.805346  1954    01\n",
       "3  1955-01-01  29740.0  22.583333 -5.231481    -4.93665 -0.294831  1955    01\n",
       "4  1956-01-01  29740.0  18.254237 -7.636535    -4.93665 -2.699885  1956    01"
      ]
     },
     "execution_count": 11,
     "metadata": {},
     "output_type": "execute_result"
    }
   ],
   "source": [
    "# Slice the DATE COLUMN string for extracting year and month column\n",
    "data[\"YEAR\"] = data[\"DATE\"].astype('str').str.slice(start=0, stop=4)\n",
    "data[\"MONTH\"] = data[\"DATE\"].astype('str').str.slice(start=5, stop=7)\n",
    "# Let's see what we have\n",
    "data.head()"
   ]
  },
  {
   "cell_type": "code",
   "execution_count": 31,
   "metadata": {
    "deletable": false,
    "nbgrader": {
     "cell_type": "code",
     "checksum": "2247c524419564c72b50dbb41a2228eb",
     "grade": false,
     "grade_id": "problem_2_ag_p2_select_data",
     "locked": false,
     "schema_version": 3,
     "solution": true
    }
   },
   "outputs": [],
   "source": [
    "# YOUR CODE HERE\n",
    "selection = data[(data['YEAR'].astype('int') >= 1988 ) & (data['YEAR'].astype('int') <= 2018 )].sort_values(by='YEAR')"
   ]
  },
  {
   "cell_type": "code",
   "execution_count": 32,
   "metadata": {
    "deletable": false,
    "editable": false,
    "nbgrader": {
     "cell_type": "code",
     "checksum": "05473fe56472596759ac4ef31b550e9f",
     "grade": true,
     "grade_id": "problem_2_ag_p2_select_data_test1",
     "locked": true,
     "points": 1,
     "schema_version": 3,
     "solution": false
    }
   },
   "outputs": [
    {
     "data": {
      "text/html": [
       "<div>\n",
       "<style scoped>\n",
       "    .dataframe tbody tr th:only-of-type {\n",
       "        vertical-align: middle;\n",
       "    }\n",
       "\n",
       "    .dataframe tbody tr th {\n",
       "        vertical-align: top;\n",
       "    }\n",
       "\n",
       "    .dataframe thead th {\n",
       "        text-align: right;\n",
       "    }\n",
       "</style>\n",
       "<table border=\"1\" class=\"dataframe\">\n",
       "  <thead>\n",
       "    <tr style=\"text-align: right;\">\n",
       "      <th></th>\n",
       "      <th>DATE</th>\n",
       "      <th>USAF</th>\n",
       "      <th>TEMP_F</th>\n",
       "      <th>TEMP_C</th>\n",
       "      <th>REF_TEMP_C</th>\n",
       "      <th>DIFF_C</th>\n",
       "      <th>YEAR</th>\n",
       "      <th>MONTH</th>\n",
       "    </tr>\n",
       "  </thead>\n",
       "  <tbody>\n",
       "    <tr>\n",
       "      <th>27</th>\n",
       "      <td>1988-01-01</td>\n",
       "      <td>29740.0</td>\n",
       "      <td>27.404003</td>\n",
       "      <td>-2.553332</td>\n",
       "      <td>-4.936650</td>\n",
       "      <td>2.383318</td>\n",
       "      <td>1988</td>\n",
       "      <td>01</td>\n",
       "    </tr>\n",
       "    <tr>\n",
       "      <th>558</th>\n",
       "      <td>1988-10-01</td>\n",
       "      <td>29740.0</td>\n",
       "      <td>40.596987</td>\n",
       "      <td>4.776104</td>\n",
       "      <td>5.661539</td>\n",
       "      <td>-0.885436</td>\n",
       "      <td>1988</td>\n",
       "      <td>10</td>\n",
       "    </tr>\n",
       "    <tr>\n",
       "      <th>322</th>\n",
       "      <td>1988-06-01</td>\n",
       "      <td>29740.0</td>\n",
       "      <td>60.769667</td>\n",
       "      <td>15.983149</td>\n",
       "      <td>14.578880</td>\n",
       "      <td>1.404269</td>\n",
       "      <td>1988</td>\n",
       "      <td>06</td>\n",
       "    </tr>\n",
       "    <tr>\n",
       "      <th>204</th>\n",
       "      <td>1988-04-01</td>\n",
       "      <td>29740.0</td>\n",
       "      <td>34.909643</td>\n",
       "      <td>1.616468</td>\n",
       "      <td>3.927530</td>\n",
       "      <td>-2.311061</td>\n",
       "      <td>1988</td>\n",
       "      <td>04</td>\n",
       "    </tr>\n",
       "    <tr>\n",
       "      <th>617</th>\n",
       "      <td>1988-11-01</td>\n",
       "      <td>29740.0</td>\n",
       "      <td>26.090164</td>\n",
       "      <td>-3.283242</td>\n",
       "      <td>0.456494</td>\n",
       "      <td>-3.739737</td>\n",
       "      <td>1988</td>\n",
       "      <td>11</td>\n",
       "    </tr>\n",
       "  </tbody>\n",
       "</table>\n",
       "</div>"
      ],
      "text/plain": [
       "           DATE     USAF     TEMP_F     TEMP_C  REF_TEMP_C    DIFF_C  YEAR  \\\n",
       "27   1988-01-01  29740.0  27.404003  -2.553332   -4.936650  2.383318  1988   \n",
       "558  1988-10-01  29740.0  40.596987   4.776104    5.661539 -0.885436  1988   \n",
       "322  1988-06-01  29740.0  60.769667  15.983149   14.578880  1.404269  1988   \n",
       "204  1988-04-01  29740.0  34.909643   1.616468    3.927530 -2.311061  1988   \n",
       "617  1988-11-01  29740.0  26.090164  -3.283242    0.456494 -3.739737  1988   \n",
       "\n",
       "    MONTH  \n",
       "27     01  \n",
       "558    10  \n",
       "322    06  \n",
       "204    04  \n",
       "617    11  "
      ]
     },
     "execution_count": 32,
     "metadata": {},
     "output_type": "execute_result"
    }
   ],
   "source": [
    "# Check that the data was read in correctly:\n",
    "selection.head()"
   ]
  },
  {
   "cell_type": "code",
   "execution_count": 33,
   "metadata": {},
   "outputs": [
    {
     "data": {
      "text/html": [
       "<div>\n",
       "<style scoped>\n",
       "    .dataframe tbody tr th:only-of-type {\n",
       "        vertical-align: middle;\n",
       "    }\n",
       "\n",
       "    .dataframe tbody tr th {\n",
       "        vertical-align: top;\n",
       "    }\n",
       "\n",
       "    .dataframe thead th {\n",
       "        text-align: right;\n",
       "    }\n",
       "</style>\n",
       "<table border=\"1\" class=\"dataframe\">\n",
       "  <thead>\n",
       "    <tr style=\"text-align: right;\">\n",
       "      <th></th>\n",
       "      <th>DATE</th>\n",
       "      <th>USAF</th>\n",
       "      <th>TEMP_F</th>\n",
       "      <th>TEMP_C</th>\n",
       "      <th>REF_TEMP_C</th>\n",
       "      <th>DIFF_C</th>\n",
       "      <th>YEAR</th>\n",
       "      <th>MONTH</th>\n",
       "    </tr>\n",
       "  </thead>\n",
       "  <tbody>\n",
       "    <tr>\n",
       "      <th>175</th>\n",
       "      <td>2018-03-01</td>\n",
       "      <td>29740.0</td>\n",
       "      <td>23.183175</td>\n",
       "      <td>-4.898236</td>\n",
       "      <td>-1.881240</td>\n",
       "      <td>-3.016996</td>\n",
       "      <td>2018</td>\n",
       "      <td>03</td>\n",
       "    </tr>\n",
       "    <tr>\n",
       "      <th>116</th>\n",
       "      <td>2018-02-01</td>\n",
       "      <td>29740.0</td>\n",
       "      <td>16.425944</td>\n",
       "      <td>-8.652253</td>\n",
       "      <td>-5.656795</td>\n",
       "      <td>-2.995458</td>\n",
       "      <td>2018</td>\n",
       "      <td>02</td>\n",
       "    </tr>\n",
       "    <tr>\n",
       "      <th>57</th>\n",
       "      <td>2018-01-01</td>\n",
       "      <td>29740.0</td>\n",
       "      <td>28.073536</td>\n",
       "      <td>-2.181369</td>\n",
       "      <td>-4.936650</td>\n",
       "      <td>2.755281</td>\n",
       "      <td>2018</td>\n",
       "      <td>01</td>\n",
       "    </tr>\n",
       "    <tr>\n",
       "      <th>647</th>\n",
       "      <td>2018-11-01</td>\n",
       "      <td>29740.0</td>\n",
       "      <td>37.902804</td>\n",
       "      <td>3.279335</td>\n",
       "      <td>0.456494</td>\n",
       "      <td>2.822841</td>\n",
       "      <td>2018</td>\n",
       "      <td>11</td>\n",
       "    </tr>\n",
       "    <tr>\n",
       "      <th>705</th>\n",
       "      <td>2018-12-01</td>\n",
       "      <td>29740.0</td>\n",
       "      <td>28.632289</td>\n",
       "      <td>-1.870950</td>\n",
       "      <td>-3.108102</td>\n",
       "      <td>1.237151</td>\n",
       "      <td>2018</td>\n",
       "      <td>12</td>\n",
       "    </tr>\n",
       "  </tbody>\n",
       "</table>\n",
       "</div>"
      ],
      "text/plain": [
       "           DATE     USAF     TEMP_F    TEMP_C  REF_TEMP_C    DIFF_C  YEAR  \\\n",
       "175  2018-03-01  29740.0  23.183175 -4.898236   -1.881240 -3.016996  2018   \n",
       "116  2018-02-01  29740.0  16.425944 -8.652253   -5.656795 -2.995458  2018   \n",
       "57   2018-01-01  29740.0  28.073536 -2.181369   -4.936650  2.755281  2018   \n",
       "647  2018-11-01  29740.0  37.902804  3.279335    0.456494  2.822841  2018   \n",
       "705  2018-12-01  29740.0  28.632289 -1.870950   -3.108102  1.237151  2018   \n",
       "\n",
       "    MONTH  \n",
       "175    03  \n",
       "116    02  \n",
       "57     01  \n",
       "647    11  \n",
       "705    12  "
      ]
     },
     "execution_count": 33,
     "metadata": {},
     "output_type": "execute_result"
    }
   ],
   "source": [
    "selection.tail()"
   ]
  },
  {
   "cell_type": "code",
   "execution_count": 34,
   "metadata": {
    "deletable": false,
    "editable": false,
    "nbgrader": {
     "cell_type": "code",
     "checksum": "b25d8d22216a32e97012ea1d0b6d4a66",
     "grade": true,
     "grade_id": "problem_2_ag_p2_select_data_test2",
     "locked": true,
     "points": 1,
     "schema_version": 3,
     "solution": false
    }
   },
   "outputs": [
    {
     "name": "stdout",
     "output_type": "stream",
     "text": [
      "Number of rows: 372\n"
     ]
    }
   ],
   "source": [
    "# Check how many rows of data you selected:\n",
    "print(f'Number of rows: {len(selection)}')"
   ]
  },
  {
   "attachments": {},
   "cell_type": "markdown",
   "metadata": {
    "deletable": false,
    "editable": false,
    "nbgrader": {
     "cell_type": "markdown",
     "checksum": "be6f493465cd1ac184ad5a77e11e41d9",
     "grade": false,
     "grade_id": "cell-322ca8ec0694eac9",
     "locked": true,
     "schema_version": 3,
     "solution": false
    }
   },
   "source": [
    "### Part 3 (4 points)\n",
    "\n",
    "#### Part 3.1\n",
    "\n",
    "Create a line plot that displays the temperatures (`TEMP_C`) for each month in the 30-year time period with the following format:\n",
    "     \n",
    "- Set the figure size\n",
    "\n",
    "    - Create a figure object and use the `figsize` parameter. \n",
    "    - The example figure uses `figsize=(14,6)` (you can experiment with other figure sizes if you like!)\n",
    "\n",
    "- Adjust the line style\n",
    "\n",
    "    - solid line \n",
    "    - black color\n",
    "    - round markers\n",
    "     \n",
    "- Add a title and axis labels\n",
    "\n",
    "    - Title: `'Helsinki-Vantaa Airport'` \n",
    "    - X-label: `'Time'`\n",
    "    - Y-label: `'Temperature (Celsius)'`\n",
    "\n",
    "#### Part 3.2\n",
    "\n",
    "Save your figure as PNG file called `temp_line_plot.png`."
   ]
  },
  {
   "cell_type": "code",
   "execution_count": 41,
   "metadata": {
    "deletable": false,
    "nbgrader": {
     "cell_type": "code",
     "checksum": "7daf69a1f83664732cb7a6fef7651c04",
     "grade": true,
     "grade_id": "problem_2_mg_p3_plot_data",
     "locked": false,
     "points": 3,
     "schema_version": 3,
     "solution": true
    }
   },
   "outputs": [
    {
     "data": {
      "text/plain": [
       "<Figure size 1400x600 with 0 Axes>"
      ]
     },
     "metadata": {},
     "output_type": "display_data"
    },
    {
     "data": {
      "image/png": "[encoded data removed]",
      "text/plain": [
       "<Figure size 640x480 with 1 Axes>"
      ]
     },
     "metadata": {},
     "output_type": "display_data"
    }
   ],
   "source": [
    "%matplotlib inline\n",
    "\n",
    "# YOUR CODE HERE\n",
    "import matplotlib.pyplot as plt\n",
    "\n",
    "# Create a figure object with a size of 14 inches (width) by 6 inches (height)\n",
    "fig = plt.figure(figsize=(14, 6))\n",
    "\n",
    "# Create a line plot of the monthly temperatures\n",
    "ax = selection.plot(x='YEAR', y='TEMP_C', linestyle='-', marker='o', color='black', markersize=3)\n",
    "\n",
    "# Set the title and axis labels\n",
    "ax.set_title('Helsinki-Vantaa Airport')\n",
    "ax.set_xlabel('Time')\n",
    "ax.set_ylabel('Temperature (Celsius)')\n",
    "ax.grid()\n",
    "\n",
    "\n",
    "\n",
    "# Set output file name\n",
    "outputfp = 'img/temp_line_plot.png'\n",
    "\n",
    "# Save the plot as a PNG file\n",
    "plt.savefig(outputfp)\n"
   ]
  },
  {
   "cell_type": "code",
   "execution_count": 38,
   "metadata": {
    "deletable": false,
    "editable": false,
    "nbgrader": {
     "cell_type": "code",
     "checksum": "6bfc8310eaab53f18570372fc48ad27d",
     "grade": true,
     "grade_id": "problem_2_ag_p3_outputfile_test1",
     "locked": true,
     "points": 1,
     "schema_version": 3,
     "solution": false,
     "task": false
    }
   },
   "outputs": [
    {
     "data": {
      "text/plain": [
       "True"
      ]
     },
     "execution_count": 38,
     "metadata": {},
     "output_type": "execute_result"
    }
   ],
   "source": [
    "import os\n",
    "\n",
    "#Check that output file exists (also open the file and check that the plot looks ok!)\n",
    "os.path.exists(outputfp)"
   ]
  },
  {
   "attachments": {},
   "cell_type": "markdown",
   "metadata": {
    "deletable": false,
    "editable": false,
    "nbgrader": {
     "cell_type": "markdown",
     "checksum": "7ee89f54b4864f82e7c6b6f061d17b71",
     "grade": false,
     "grade_id": "cell-d006f551c24788b6",
     "locked": true,
     "schema_version": 3,
     "solution": false
    }
   },
   "source": [
    "**REMINDER**: Don't forget to upload your figure and the modified notebook into your personal GitHub repository!\n",
    "\n",
    "### Done!"
   ]
  },
  {
   "attachments": {},
   "cell_type": "markdown",
   "metadata": {
    "deletable": false,
    "editable": false,
    "nbgrader": {
     "cell_type": "markdown",
     "checksum": "abbc1d35fb7e28664c095c335a1651f8",
     "grade": false,
     "grade_id": "cell-f97296b534b7b10f",
     "locked": true,
     "schema_version": 3,
     "solution": false,
     "task": false
    }
   },
   "source": [
    "### Optional extra task: An interactive plot (0 points)\n",
    "\n",
    "Create an interactive version of the monthly temperatures using [hvPlot](https://hvplot.holoviz.org/)!"
   ]
  },
  {
   "cell_type": "code",
   "execution_count": 43,
   "metadata": {
    "deletable": false,
    "nbgrader": {
     "cell_type": "code",
     "checksum": "a51a89cfd390a09e6c6ce590cb8909d7",
     "grade": true,
     "grade_id": "problem_2_mg_p4_import_bokeh",
     "locked": false,
     "points": 0,
     "schema_version": 3,
     "solution": true,
     "task": false
    }
   },
   "outputs": [],
   "source": [
    "# Import pandas submodule of hvplot in this cell\n",
    "\n",
    "# YOUR CODE HERE\n"
   ]
  },
  {
   "cell_type": "code",
   "execution_count": 44,
   "metadata": {
    "deletable": false,
    "nbgrader": {
     "cell_type": "code",
     "checksum": "7eb265af0db71e43a6ea1707072b384d",
     "grade": true,
     "grade_id": "problem_2_mg_p4_plot_bokeh",
     "locked": false,
     "points": 0,
     "schema_version": 3,
     "solution": true,
     "task": false
    }
   },
   "outputs": [],
   "source": [
    "# Plot an interactive visualization of the monthly temperatures. \n",
    "# Note! You might have to re-order the data before plotting.\n",
    "\n",
    "# YOUR CODE HERE\n"
   ]
  }
 ],
 "metadata": {
  "kernelspec": {
   "display_name": "yolox",
   "language": "python",
   "name": "yolox"
  },
  "language_info": {
   "codemirror_mode": {
    "name": "ipython",
    "version": 3
   },
   "file_extension": ".py",
   "mimetype": "text/x-python",
   "name": "python",
   "nbconvert_exporter": "python",
   "pygments_lexer": "ipython3",
   "version": "3.9.13"
  }
 },
 "nbformat": 4,
 "nbformat_minor": 4
}
